{
  "nbformat": 4,
  "nbformat_minor": 0,
  "metadata": {
    "colab": {
      "name": "Untitled2.ipynb",
      "provenance": [],
      "collapsed_sections": [],
      "authorship_tag": "ABX9TyO8VpENuFV6sh7s824a6VZn",
      "include_colab_link": true
    },
    "kernelspec": {
      "name": "python3",
      "display_name": "Python 3"
    },
    "language_info": {
      "name": "python"
    }
  },
  "cells": [
    {
      "cell_type": "markdown",
      "metadata": {
        "id": "view-in-github",
        "colab_type": "text"
      },
      "source": [
        "<a href=\"https://colab.research.google.com/github/poojashreeNS/Assignments/blob/main/singleLink-table.ipynb\" target=\"_parent\"><img src=\"https://colab.research.google.com/assets/colab-badge.svg\" alt=\"Open In Colab\"/></a>"
      ]
    },
    {
      "cell_type": "code",
      "metadata": {
        "id": "uEc2vlzzdrUB"
      },
      "source": [
        "import math as math\n",
        "import numpy as np\n",
        "\n",
        "X = [(2, 2), (2, 6), (3, 7), (5, 2), (5, 5), (5, 8), (6, 6), (7, 3), (8, 4), (10, 6), (12, 8)]\n",
        "Matrix = [[0 for x in range(len(X))] for y in range(len(X))]\n",
        "distance = 0\n",
        "\n",
        "for i in range(len(X)):\n",
        "  for j in range(len(X)):\n",
        "    x1 = X[i][0]\n",
        "    x2 = X[j][0]\n",
        "    y1 = X[i][1]\n",
        "    y2 = X[j][1]\n",
        "    distance = math.sqrt((x1 - x2)**2 + (y1 - y2)**2)\n",
        "    Matrix[i][j] = round(distance, 2)"
      ],
      "execution_count": 166,
      "outputs": []
    },
    {
      "cell_type": "code",
      "metadata": {
        "colab": {
          "base_uri": "https://localhost:8080/"
        },
        "id": "Zzk-qfEroPuk",
        "outputId": "e13eb3b7-4f81-4163-ca67-a4c49c62e666"
      },
      "source": [
        "for row in Matrix:\n",
        "    print(*row, sep='\\t')\n",
        "    print(\"\\t\")"
      ],
      "execution_count": 167,
      "outputs": [
        {
          "output_type": "stream",
          "name": "stdout",
          "text": [
            "0.0\t4.0\t5.1\t3.0\t4.24\t6.71\t5.66\t5.1\t6.32\t8.94\t11.66\n",
            "\t\n",
            "4.0\t0.0\t1.41\t5.0\t3.16\t3.61\t4.0\t5.83\t6.32\t8.0\t10.2\n",
            "\t\n",
            "5.1\t1.41\t0.0\t5.39\t2.83\t2.24\t3.16\t5.66\t5.83\t7.07\t9.06\n",
            "\t\n",
            "3.0\t5.0\t5.39\t0.0\t3.0\t6.0\t4.12\t2.24\t3.61\t6.4\t9.22\n",
            "\t\n",
            "4.24\t3.16\t2.83\t3.0\t0.0\t3.0\t1.41\t2.83\t3.16\t5.1\t7.62\n",
            "\t\n",
            "6.71\t3.61\t2.24\t6.0\t3.0\t0.0\t2.24\t5.39\t5.0\t5.39\t7.0\n",
            "\t\n",
            "5.66\t4.0\t3.16\t4.12\t1.41\t2.24\t0.0\t3.16\t2.83\t4.0\t6.32\n",
            "\t\n",
            "5.1\t5.83\t5.66\t2.24\t2.83\t5.39\t3.16\t0.0\t1.41\t4.24\t7.07\n",
            "\t\n",
            "6.32\t6.32\t5.83\t3.61\t3.16\t5.0\t2.83\t1.41\t0.0\t2.83\t5.66\n",
            "\t\n",
            "8.94\t8.0\t7.07\t6.4\t5.1\t5.39\t4.0\t4.24\t2.83\t0.0\t2.83\n",
            "\t\n",
            "11.66\t10.2\t9.06\t9.22\t7.62\t7.0\t6.32\t7.07\t5.66\t2.83\t0.0\n",
            "\t\n"
          ]
        }
      ]
    },
    {
      "cell_type": "code",
      "metadata": {
        "colab": {
          "base_uri": "https://localhost:8080/"
        },
        "id": "GS2cGuHnrSr8",
        "outputId": "085997e7-3ded-4c86-e37a-0c7872def7eb"
      },
      "source": [
        "Matrix = np.array(Matrix)\n",
        "\n",
        "index = np.where(Matrix == np.min(Matrix[Matrix > 0]))\n",
        "print(index)\n",
        "print(index[0][0], index[1][0])\n",
        "\n",
        "row1 = Matrix[index[0][0]]\n",
        "row2 = Matrix[index[1][0]]\n",
        "print(row1)\n",
        "print(row2)\n",
        "\n",
        "matrix_row_new = np.minimum(row1, row2)\n",
        "print(matrix_row_new)\n",
        "matrix_row_new = np.delete(matrix_row_new, [index[0][0], index[1][0]], 0)\n",
        "#print(matrix_row_new)\n",
        "\n",
        "matrix_del_col = np.delete(Matrix, [index[0][0], index[1][0]], 1)\n",
        "#print(matrix_del_col)\n",
        "\n",
        "matrix_del_row = np.delete(matrix_del_col, [index[0][0], index[1][0]], 0)\n",
        "#print(matrix_del_row)\n",
        "\n",
        "arr = np.insert(matrix_del_row,matrix_del_row.shape[0],[matrix_row_new],axis= 0)\n",
        "#print(arr)\n",
        "\n",
        "matrix_row_new = np.append(matrix_row_new, [0])\n",
        "print(matrix_row_new)\n",
        "\n",
        "Matrix = np.insert(arr,matrix_del_row.shape[0],[matrix_row_new],axis= 1)"
      ],
      "execution_count": 185,
      "outputs": [
        {
          "output_type": "stream",
          "name": "stdout",
          "text": [
            "(array([1, 2]), array([2, 1]))\n",
            "1 2\n",
            "[8.94 0.   2.83]\n",
            "[3.   2.83 0.  ]\n",
            "[3. 0. 0.]\n",
            "[3. 0.]\n"
          ]
        }
      ]
    },
    {
      "cell_type": "code",
      "metadata": {
        "colab": {
          "base_uri": "https://localhost:8080/"
        },
        "id": "slO3pa7EXqIY",
        "outputId": "54a9da88-03a0-46d2-a45f-07622ceb2dfe"
      },
      "source": [
        "print(\"____________Next step output_________\")\n",
        "print(Matrix)\n",
        "print(\"___________Merged Indices____________\")\n",
        "print(index[0][0], index[1][0])\n",
        "print(\"_____________________________________\")"
      ],
      "execution_count": 186,
      "outputs": [
        {
          "output_type": "stream",
          "name": "stdout",
          "text": [
            "____________Next step output_________\n",
            "[[0. 3.]\n",
            " [3. 0.]]\n",
            "___________Merged Indices____________\n",
            "1 2\n",
            "_____________________________________\n"
          ]
        }
      ]
    }
  ]
}